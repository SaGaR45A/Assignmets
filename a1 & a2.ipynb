{
  "nbformat": 4,
  "nbformat_minor": 0,
  "metadata": {
    "colab": {
      "name": "Untitled0.ipynb",
      "provenance": [],
      "authorship_tag": "ABX9TyNIbdfhI/ybT/8Cq0bWkhpb",
      "include_colab_link": true
    },
    "kernelspec": {
      "name": "python3",
      "display_name": "Python 3"
    }
  },
  "cells": [
    {
      "cell_type": "markdown",
      "metadata": {
        "id": "view-in-github",
        "colab_type": "text"
      },
      "source": [
        "<a href=\"https://colab.research.google.com/github/SaGaR45A/Assignmets/blob/main/a1%20%26%20a2.ipynb\" target=\"_parent\"><img src=\"https://colab.research.google.com/assets/colab-badge.svg\" alt=\"Open In Colab\"/></a>"
      ]
    },
    {
      "cell_type": "markdown",
      "metadata": {
        "id": "3pMum69wHZaV"
      },
      "source": [
        "Assignment 1\r\n"
      ]
    },
    {
      "cell_type": "code",
      "metadata": {
        "colab": {
          "base_uri": "https://localhost:8080/"
        },
        "id": "N7-TN0v9HjQW",
        "outputId": "8ea3bde4-c93d-472b-cfa7-ef0a1cff08c6"
      },
      "source": [
        "list = [1,2,3,4,5,'a','b','c','d']\r\n",
        "print(list)"
      ],
      "execution_count": 28,
      "outputs": [
        {
          "output_type": "stream",
          "text": [
            "[1, 2, 3, 4, 5, 'a', 'b', 'c', 'd']\n"
          ],
          "name": "stdout"
        }
      ]
    },
    {
      "cell_type": "code",
      "metadata": {
        "colab": {
          "base_uri": "https://localhost:8080/"
        },
        "id": "oa3hFWwoID2b",
        "outputId": "8f4f5877-ab22-4931-d95e-3edb22112594"
      },
      "source": [
        "list.append(6)\r\n",
        "print(list)"
      ],
      "execution_count": 29,
      "outputs": [
        {
          "output_type": "stream",
          "text": [
            "[1, 2, 3, 4, 5, 'a', 'b', 'c', 'd', 6]\n"
          ],
          "name": "stdout"
        }
      ]
    },
    {
      "cell_type": "code",
      "metadata": {
        "colab": {
          "base_uri": "https://localhost:8080/"
        },
        "id": "WSWZz953IUlX",
        "outputId": "fe08d3fe-b3ce-4f78-941d-2dbbcff64da9"
      },
      "source": [
        "list.count(4)"
      ],
      "execution_count": 30,
      "outputs": [
        {
          "output_type": "execute_result",
          "data": {
            "text/plain": [
              "1"
            ]
          },
          "metadata": {
            "tags": []
          },
          "execution_count": 30
        }
      ]
    },
    {
      "cell_type": "code",
      "metadata": {
        "colab": {
          "base_uri": "https://localhost:8080/"
        },
        "id": "zsNeoRsHIiAa",
        "outputId": "293f3265-cdd4-40f7-ef9e-be8b6b4271dc"
      },
      "source": [
        "list.pop(6)\r\n",
        "print(list)"
      ],
      "execution_count": 31,
      "outputs": [
        {
          "output_type": "stream",
          "text": [
            "[1, 2, 3, 4, 5, 'a', 'c', 'd', 6]\n"
          ],
          "name": "stdout"
        }
      ]
    },
    {
      "cell_type": "code",
      "metadata": {
        "colab": {
          "base_uri": "https://localhost:8080/"
        },
        "id": "WI19oSRqJE-c",
        "outputId": "e07973ed-3dbe-4819-9da6-ebfb145de587"
      },
      "source": [
        "list.reverse()\r\n",
        "print(list)"
      ],
      "execution_count": 32,
      "outputs": [
        {
          "output_type": "stream",
          "text": [
            "[6, 'd', 'c', 'a', 5, 4, 3, 2, 1]\n"
          ],
          "name": "stdout"
        }
      ]
    },
    {
      "cell_type": "code",
      "metadata": {
        "colab": {
          "base_uri": "https://localhost:8080/"
        },
        "id": "Vl0vwA4DKevm",
        "outputId": "c35d30df-1c50-4241-83ce-a8c8fdd4652e"
      },
      "source": [
        "list.clear()\r\n",
        "print(list)"
      ],
      "execution_count": 33,
      "outputs": [
        {
          "output_type": "stream",
          "text": [
            "[]\n"
          ],
          "name": "stdout"
        }
      ]
    },
    {
      "cell_type": "markdown",
      "metadata": {
        "id": "S364g35eLWa3"
      },
      "source": [
        "Assignment 2"
      ]
    },
    {
      "cell_type": "code",
      "metadata": {
        "colab": {
          "base_uri": "https://localhost:8080/"
        },
        "id": "NQQ7UAhnLaaG",
        "outputId": "45ca19f7-cf1b-4e7f-b820-3e68a8234a97"
      },
      "source": [
        "dict = {1,2,3,4,5,'a','b','c','d'}\r\n",
        "print(dict)"
      ],
      "execution_count": 34,
      "outputs": [
        {
          "output_type": "stream",
          "text": [
            "{1, 2, 3, 4, 5, 'b', 'c', 'a', 'd'}\n"
          ],
          "name": "stdout"
        }
      ]
    },
    {
      "cell_type": "code",
      "metadata": {
        "colab": {
          "base_uri": "https://localhost:8080/"
        },
        "id": "ypm_72hoKzsu",
        "outputId": "1ad2be64-aef8-4352-e823-24fb50c585ca"
      },
      "source": [
        "dict.discard(5)\r\n",
        "print(dict)"
      ],
      "execution_count": 35,
      "outputs": [
        {
          "output_type": "stream",
          "text": [
            "{1, 2, 3, 4, 'b', 'c', 'a', 'd'}\n"
          ],
          "name": "stdout"
        }
      ]
    },
    {
      "cell_type": "code",
      "metadata": {
        "colab": {
          "base_uri": "https://localhost:8080/"
        },
        "id": "aJ_fKlzPMMXk",
        "outputId": "8d1bd267-1b84-43bf-bd4d-dd5f1b0e7bd2"
      },
      "source": [
        "dict.add(5)\r\n",
        "print(dict)"
      ],
      "execution_count": 37,
      "outputs": [
        {
          "output_type": "stream",
          "text": [
            "{1, 2, 3, 4, 5, 'b', 'c', 'a', 'd'}\n"
          ],
          "name": "stdout"
        }
      ]
    },
    {
      "cell_type": "code",
      "metadata": {
        "colab": {
          "base_uri": "https://localhost:8080/"
        },
        "id": "KLB81uJYMeNS",
        "outputId": "b1a777fd-036b-4cbe-d893-40fd36672e9d"
      },
      "source": [
        "dict.remove(5)\r\n",
        "print(dict)"
      ],
      "execution_count": 43,
      "outputs": [
        {
          "output_type": "stream",
          "text": [
            "{1, 2, 3, 4, 'b', 'c', 'a', 'd'}\n"
          ],
          "name": "stdout"
        }
      ]
    },
    {
      "cell_type": "code",
      "metadata": {
        "colab": {
          "base_uri": "https://localhost:8080/"
        },
        "id": "zNa5-zvCMtkr",
        "outputId": "683d4e3c-f3b7-4d47-bf7d-d7b5071523c4"
      },
      "source": [
        "dict.pop()\r\n",
        "print(dict)"
      ],
      "execution_count": 45,
      "outputs": [
        {
          "output_type": "stream",
          "text": [
            "{2, 3, 4, 'b', 'c', 'a', 'd'}\n"
          ],
          "name": "stdout"
        }
      ]
    },
    {
      "cell_type": "code",
      "metadata": {
        "colab": {
          "base_uri": "https://localhost:8080/"
        },
        "id": "vvt-hulmNbPu",
        "outputId": "5aa80d04-12da-4ee5-d0b1-5319562f2de3"
      },
      "source": [
        "d= dict.copy()\r\n",
        "print(d)\r\n",
        "print(dict)"
      ],
      "execution_count": 51,
      "outputs": [
        {
          "output_type": "stream",
          "text": [
            "{'a', 2, 3, 4, 'd', 'b', 'c'}\n",
            "{2, 3, 4, 'b', 'c', 'a', 'd'}\n"
          ],
          "name": "stdout"
        }
      ]
    },
    {
      "cell_type": "code",
      "metadata": {
        "id": "jUCtbL0BNqzh"
      },
      "source": [
        ""
      ],
      "execution_count": null,
      "outputs": []
    }
  ]
}